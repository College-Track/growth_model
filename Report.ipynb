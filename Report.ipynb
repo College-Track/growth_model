{
 "cells": [
  {
   "cell_type": "markdown",
   "metadata": {},
   "source": [
    "# FY20 Growth Model Updates\n",
    "\n",
    "Goal: Evaluate historical data from the past four fiscal years (FY16 -FY19) to determine more accurate averages for the following metrics: \n",
    "\n",
    "* **Year to year high school retention rate**\n",
    "    * i.e. The percent of students who continue from their Junior to Sophomore year. \n",
    "\n",
    "\n",
    "* **Year to year college retention rate**\n",
    "    * i.e. The percent of students who continue from their four year to fifth year.\n",
    "      * Note, this report will treat graduates and inactive students as the same. For example, 100 students are enrolled in their 4th year of college. At the start of their fifth year, 50 students have graduated, and 20 have dropped out (became inactive). The retention rate for 4th -> 5th year will be 30%.\n",
    "\n",
    "\n",
    "* **Updated college graduation rates by high school class**\n",
    "\n",
    "___ \n",
    "*General Notes* \n",
    "\n",
    "* Due to limitations in Salesforce's historical data structures, most of these data points were arrived at via proxy methods to determine if a student was active. For example high school students were considered active if they attended more than 5 classes in an academic year. This will result in numbers that might be slightly off from other historical data, but when possible we verified the numbers were as similar as possible. \n",
    "\n",
    "\n",
    "* Likewise, these numbers might overestimate the count of students at a site due to these proxies compared to how Finance or OP just pulls data at a predetermined point in time. If Finance pulled a roster report in March, some of the students included in his analysis would likely have been removed. Moving forward the database is structured to make this type of reporting easier, but that wasn't possible using historical data."
   ]
  },
  {
   "cell_type": "code",
   "execution_count": 33,
   "metadata": {},
   "outputs": [],
   "source": [
    "import pandas as pd\n",
    "from pathlib import Path\n",
    "from datetime import datetime\n",
    "import numpy as np\n",
    "\n",
    "\n",
    "import seaborn as sns \n",
    "import matplotlib.pyplot as plt\n",
    "sns.set(font_scale=1.5)\n",
    "sns.set_style(\"white\")\n",
    "\n",
    "sns.set_context('talk')\n",
    "\n",
    "sns.set_palette(\"pastel\")\n"
   ]
  },
  {
   "cell_type": "code",
   "execution_count": 2,
   "metadata": {},
   "outputs": [],
   "source": [
    "%matplotlib inline"
   ]
  },
  {
   "cell_type": "code",
   "execution_count": 3,
   "metadata": {},
   "outputs": [],
   "source": [
    "today = datetime.today()\n",
    "in_file = Path.cwd() / \"data\" / \"processed\" / \"processed_data.pkl\"\n",
    "in_file2 = Path.cwd() / \"data\" / \"processed\" / \"processed_data_file2.pkl\"\n",
    "in_file3 = Path.cwd() / \"data\" / \"processed\" / \"processed_data_file3.pkl\"\n",
    "\n",
    "active_students = Path.cwd() / \"data\" / \"processed\" / \"active_students.pkl\"\n",
    "\n",
    "report_dir = Path.cwd() / \"reports\"\n",
    "report_file = report_dir / \"Excel_Analysis_{today:%b-%d-%Y}.xlsx\""
   ]
  },
  {
   "cell_type": "code",
   "execution_count": 4,
   "metadata": {},
   "outputs": [],
   "source": [
    "df = pd.read_pickle(in_file)\n",
    "\n",
    "df2 = pd.read_pickle(in_file2)\n",
    "\n",
    "df3 = pd.read_pickle(in_file3)\n",
    "\n",
    "df_active_students = pd.read_pickle(active_students)\n"
   ]
  },
  {
   "cell_type": "markdown",
   "metadata": {
    "hide_input": false
   },
   "source": [
    "## Key Data and Decision Point"
   ]
  },
  {
   "cell_type": "code",
   "execution_count": 5,
   "metadata": {
    "hide_input": false
   },
   "outputs": [],
   "source": [
    "average_rates = [54/60,59/60,54/60,45/60, 44/60, .69, .55, .51,.29,.14]"
   ]
  },
  {
   "cell_type": "code",
   "execution_count": 6,
   "metadata": {},
   "outputs": [],
   "source": [
    "growth_model_assumptions = [1, 1, .85, .75, .75, .73, .67, .57, .43, .3]"
   ]
  },
  {
   "cell_type": "code",
   "execution_count": 7,
   "metadata": {},
   "outputs": [],
   "source": [
    "rate_comparison = pd.DataFrame(np.array([growth_model_assumptions, average_rates]),\n",
    "             columns=['Freshman', 'Sophomore', 'Junior', 'Senior', 'Year 1', 'Year 2', 'Year 3', 'Year 4', 'Year 5', 'Year 6'], index=['Growth Model Assumptions', 'Historical Averages'])"
   ]
  },
  {
   "cell_type": "code",
   "execution_count": 8,
   "metadata": {},
   "outputs": [],
   "source": [
    "total_enrollent_df = df_active_students.groupby(\n",
    "    [\"Site\", \"Global Academic Year\", \"enrollment_target\"], as_index=False\n",
    ").sum()"
   ]
  },
  {
   "cell_type": "code",
   "execution_count": 9,
   "metadata": {},
   "outputs": [],
   "source": [
    "total_enrollent_df = total_enrollent_df.pivot_table(\n",
    "    index=[\"enrollment_target\", \"Site\"], values=\"active_student\", aggfunc=\"mean\"\n",
    ")"
   ]
  },
  {
   "cell_type": "code",
   "execution_count": 10,
   "metadata": {},
   "outputs": [],
   "source": [
    "total_enrollent_df= total_enrollent_df.reset_index().sort_values('active_student')"
   ]
  },
  {
   "cell_type": "markdown",
   "metadata": {},
   "source": [
    "### Table 1. Growth Model Assumptions vs Historical Averages\n",
    "\n",
    "The previous version of the growth model had reasonably accurate assumptions for high school enrollment by grade. The only major area it was off was Freshman recruitment rarely hit the total target, but Sophomore year backfill usually returned sites to near capacity. \n",
    "\n",
    "The model was much more inaccurate when it came to college. Using historical data, the number of students dropping between Year 2 and Year 3 was much higher than originally estimated, as was the number of students either graduating or dropping after Year 4. \n",
    "\n",
    "* Note, the table below shows percentages of the original cohort target. For example, if a site had a target of 100 students, by Year 3, 67 students would be enrolled using the previous assumptions, or 55 students would still be enrolled using the historical averages"
   ]
  },
  {
   "cell_type": "code",
   "execution_count": 11,
   "metadata": {},
   "outputs": [
    {
     "data": {
      "text/html": [
       "<style  type=\"text/css\" >\n",
       "</style><table id=\"T_d4564a7c_63b9_11ea_a50e_4c327597d7ef\" ><thead>    <tr>        <th class=\"blank level0\" ></th>        <th class=\"col_heading level0 col0\" >Freshman</th>        <th class=\"col_heading level0 col1\" >Sophomore</th>        <th class=\"col_heading level0 col2\" >Junior</th>        <th class=\"col_heading level0 col3\" >Senior</th>        <th class=\"col_heading level0 col4\" >Year 1</th>        <th class=\"col_heading level0 col5\" >Year 2</th>        <th class=\"col_heading level0 col6\" >Year 3</th>        <th class=\"col_heading level0 col7\" >Year 4</th>        <th class=\"col_heading level0 col8\" >Year 5</th>        <th class=\"col_heading level0 col9\" >Year 6</th>    </tr></thead><tbody>\n",
       "                <tr>\n",
       "                        <th id=\"T_d4564a7c_63b9_11ea_a50e_4c327597d7eflevel0_row0\" class=\"row_heading level0 row0\" >Growth Model Assumptions</th>\n",
       "                        <td id=\"T_d4564a7c_63b9_11ea_a50e_4c327597d7efrow0_col0\" class=\"data row0 col0\" >100%</td>\n",
       "                        <td id=\"T_d4564a7c_63b9_11ea_a50e_4c327597d7efrow0_col1\" class=\"data row0 col1\" >100%</td>\n",
       "                        <td id=\"T_d4564a7c_63b9_11ea_a50e_4c327597d7efrow0_col2\" class=\"data row0 col2\" >85%</td>\n",
       "                        <td id=\"T_d4564a7c_63b9_11ea_a50e_4c327597d7efrow0_col3\" class=\"data row0 col3\" >75%</td>\n",
       "                        <td id=\"T_d4564a7c_63b9_11ea_a50e_4c327597d7efrow0_col4\" class=\"data row0 col4\" >75%</td>\n",
       "                        <td id=\"T_d4564a7c_63b9_11ea_a50e_4c327597d7efrow0_col5\" class=\"data row0 col5\" >73%</td>\n",
       "                        <td id=\"T_d4564a7c_63b9_11ea_a50e_4c327597d7efrow0_col6\" class=\"data row0 col6\" >67%</td>\n",
       "                        <td id=\"T_d4564a7c_63b9_11ea_a50e_4c327597d7efrow0_col7\" class=\"data row0 col7\" >57%</td>\n",
       "                        <td id=\"T_d4564a7c_63b9_11ea_a50e_4c327597d7efrow0_col8\" class=\"data row0 col8\" >43%</td>\n",
       "                        <td id=\"T_d4564a7c_63b9_11ea_a50e_4c327597d7efrow0_col9\" class=\"data row0 col9\" >30%</td>\n",
       "            </tr>\n",
       "            <tr>\n",
       "                        <th id=\"T_d4564a7c_63b9_11ea_a50e_4c327597d7eflevel0_row1\" class=\"row_heading level0 row1\" >Historical Averages</th>\n",
       "                        <td id=\"T_d4564a7c_63b9_11ea_a50e_4c327597d7efrow1_col0\" class=\"data row1 col0\" >90%</td>\n",
       "                        <td id=\"T_d4564a7c_63b9_11ea_a50e_4c327597d7efrow1_col1\" class=\"data row1 col1\" >98%</td>\n",
       "                        <td id=\"T_d4564a7c_63b9_11ea_a50e_4c327597d7efrow1_col2\" class=\"data row1 col2\" >90%</td>\n",
       "                        <td id=\"T_d4564a7c_63b9_11ea_a50e_4c327597d7efrow1_col3\" class=\"data row1 col3\" >75%</td>\n",
       "                        <td id=\"T_d4564a7c_63b9_11ea_a50e_4c327597d7efrow1_col4\" class=\"data row1 col4\" >73%</td>\n",
       "                        <td id=\"T_d4564a7c_63b9_11ea_a50e_4c327597d7efrow1_col5\" class=\"data row1 col5\" >69%</td>\n",
       "                        <td id=\"T_d4564a7c_63b9_11ea_a50e_4c327597d7efrow1_col6\" class=\"data row1 col6\" >55%</td>\n",
       "                        <td id=\"T_d4564a7c_63b9_11ea_a50e_4c327597d7efrow1_col7\" class=\"data row1 col7\" >51%</td>\n",
       "                        <td id=\"T_d4564a7c_63b9_11ea_a50e_4c327597d7efrow1_col8\" class=\"data row1 col8\" >29%</td>\n",
       "                        <td id=\"T_d4564a7c_63b9_11ea_a50e_4c327597d7efrow1_col9\" class=\"data row1 col9\" >14%</td>\n",
       "            </tr>\n",
       "    </tbody></table>"
      ],
      "text/plain": [
       "<pandas.io.formats.style.Styler at 0x10af4cad0>"
      ]
     },
     "execution_count": 11,
     "metadata": {},
     "output_type": "execute_result"
    }
   ],
   "source": [
    "rate_comparison.round(2).style.format('{:.0%}')"
   ]
  },
  {
   "cell_type": "markdown",
   "metadata": {},
   "source": [
    "### Table 2. Projections vs Actuals\n",
    "\n",
    "This table shows the projected student count based entirely on the model's assumptions compared to the actuals for the past four fiscal years.\n",
    "\n",
    "Using the historical averages, the student count projections are roughly 20-50 students off per year. \n",
    "\n",
    "Using the old growth model assumptions, the student count projections are off by around 300 students per year."
   ]
  },
  {
   "cell_type": "code",
   "execution_count": 156,
   "metadata": {},
   "outputs": [],
   "source": [
    "enrollment_target_and_actuals = {'Enrollment Target: 75':[71, 75],\n",
    "                                 'Enrollment Target: 60':[54,60]\n",
    "    \n",
    "}"
   ]
  },
  {
   "cell_type": "code",
   "execution_count": 157,
   "metadata": {},
   "outputs": [],
   "source": [
    "sites = df[['Site', 'enrollment_target']].drop_duplicates()\n",
    "site_start_year = {'Oakland': 'full',\n",
    "                   'East Palo Alto': 'full',\n",
    "                   'Denver': 16, \n",
    "                   'San Francisco': 'full',\n",
    "                   'Sacramento': 15,\n",
    "                   'Aurora': 12,\n",
    "                   'Watts': 16,\n",
    "                   'Boyle Heights':13,\n",
    "                   'The Durant Center':19,\n",
    "                   'New Orleans': 11\n",
    "                  }\n",
    "\n"
   ]
  },
  {
   "cell_type": "code",
   "execution_count": 183,
   "metadata": {},
   "outputs": [],
   "source": [
    "def determine_total_enrollment_site(site, fy, target_type):\n",
    "    start_year = site_start_year[site]\n",
    "    target = sites[sites['Site'] == site]['enrollment_target'].values[0]\n",
    "    if target_type == 'historical':\n",
    "        target_actual = enrollment_target_and_actuals[target][0]\n",
    "        target_index = 1\n",
    "    elif target_type == 'growth_model':\n",
    "        target_actual = enrollment_target_and_actuals[target][1]\n",
    "        target_index = 0\n",
    "    \n",
    "    if start_year == 'full':\n",
    "        return sum(target_actual * rate_comparison.iloc[1])\n",
    "\n",
    "    else:\n",
    "        start_year_index = fy - start_year\n",
    "        if start_year_index >= 0:\n",
    "            return sum(target_actual * rate_comparison.iloc[target_index,:(1+start_year_index)])\n",
    "        else: \n",
    "            return 0\n",
    "\n",
    "\n",
    "    \n",
    "    "
   ]
  },
  {
   "cell_type": "code",
   "execution_count": 194,
   "metadata": {},
   "outputs": [],
   "source": [
    "predictions = {\n",
    "    'fy 16': [0,0, 2267],\n",
    "    'fy 17': [0,0, 2431],\n",
    "    'fy 18': [0,0, 2698],\n",
    "    'fy 19': [0,0, 3003],\n",
    "}"
   ]
  },
  {
   "cell_type": "code",
   "execution_count": 195,
   "metadata": {},
   "outputs": [],
   "source": [
    "for key in historical_predictions.keys():\n",
    "    fy = int(key.split(\" \")[1])\n",
    "    for site in sites['Site']:\n",
    "        predictions[key][0] += (determine_total_enrollment_site(site,fy,'historical'))\n",
    "        predictions[key][1] += (determine_total_enrollment_site(site,fy,'growth_model'))\n",
    "    "
   ]
  },
  {
   "cell_type": "code",
   "execution_count": 257,
   "metadata": {},
   "outputs": [],
   "source": [
    "projections_vs_actuals = pd.DataFrame(predictions, index=['Historical Averages', \"Old Growth Model\", \"Actuals\"]).astype(int)"
   ]
  },
  {
   "cell_type": "code",
   "execution_count": 258,
   "metadata": {},
   "outputs": [],
   "source": [
    "projections_vs_actuals.columns = ['FY16', 'FY17', 'FY18', 'FY19']"
   ]
  },
  {
   "cell_type": "code",
   "execution_count": 260,
   "metadata": {},
   "outputs": [
    {
     "data": {
      "text/html": [
       "<div>\n",
       "<style scoped>\n",
       "    .dataframe tbody tr th:only-of-type {\n",
       "        vertical-align: middle;\n",
       "    }\n",
       "\n",
       "    .dataframe tbody tr th {\n",
       "        vertical-align: top;\n",
       "    }\n",
       "\n",
       "    .dataframe thead th {\n",
       "        text-align: right;\n",
       "    }\n",
       "</style>\n",
       "<table border=\"1\" class=\"dataframe\">\n",
       "  <thead>\n",
       "    <tr style=\"text-align: right;\">\n",
       "      <th></th>\n",
       "      <th>FY16</th>\n",
       "      <th>FY17</th>\n",
       "      <th>FY18</th>\n",
       "      <th>FY19</th>\n",
       "    </tr>\n",
       "  </thead>\n",
       "  <tbody>\n",
       "    <tr>\n",
       "      <td>Historical Averages</td>\n",
       "      <td>2211</td>\n",
       "      <td>2485</td>\n",
       "      <td>2729</td>\n",
       "      <td>2980</td>\n",
       "    </tr>\n",
       "    <tr>\n",
       "      <td>Old Growth Model</td>\n",
       "      <td>2429</td>\n",
       "      <td>2740</td>\n",
       "      <td>3017</td>\n",
       "      <td>3322</td>\n",
       "    </tr>\n",
       "    <tr>\n",
       "      <td>Actuals</td>\n",
       "      <td>2267</td>\n",
       "      <td>2431</td>\n",
       "      <td>2698</td>\n",
       "      <td>3003</td>\n",
       "    </tr>\n",
       "  </tbody>\n",
       "</table>\n",
       "</div>"
      ],
      "text/plain": [
       "                     FY16  FY17  FY18  FY19\n",
       "Historical Averages  2211  2485  2729  2980\n",
       "Old Growth Model     2429  2740  3017  3322\n",
       "Actuals              2267  2431  2698  3003"
      ]
     },
     "execution_count": 260,
     "metadata": {},
     "output_type": "execute_result"
    }
   ],
   "source": [
    "projections_vs_actuals"
   ]
  },
  {
   "cell_type": "markdown",
   "metadata": {},
   "source": [
    "## High School Data"
   ]
  },
  {
   "cell_type": "markdown",
   "metadata": {},
   "source": [
    "### Chart 1. Average Total High School Enrollment\n",
    "This shows the average total enrollment at each site, broken out by each site's enrollment target. \n",
    "\n",
    "Using the prior logic, a site would meet their enrollment target if they retained 100% of their freshman, and sophomore students, 95% of their juniors, and 88% of their seniors. This would result in the following total numbers:\n",
    "\n",
    "* 75 Student Enrollment Target: 287\n",
    "* 60 Student Enrollment Target: 230 \n",
    " \n",
    "\n",
    "As we can see in the following chart, only San Francisco and New Orleans averaged hitting their full enrollment target in the past four years. \n",
    "\n",
    "Note, The Durant Center only has one cohort of students, which did exceed their cohort target. "
   ]
  },
  {
   "cell_type": "code",
   "execution_count": 12,
   "metadata": {},
   "outputs": [],
   "source": [
    "total_enrollent_df.at[5, 'Site'] = 'PGC'\n",
    "total_enrollent_df.at[2, 'Site'] = 'EPA'"
   ]
  },
  {
   "cell_type": "code",
   "execution_count": 34,
   "metadata": {},
   "outputs": [
    {
     "data": {
      "image/png": "[encoded data removed]",
      "text/plain": [
       "<Figure size 864x360 with 1 Axes>"
      ]
     },
     "metadata": {},
     "output_type": "display_data"
    }
   ],
   "source": [
    "fig, ax = plt.subplots(figsize=(12, 5))\n",
    "\n",
    "\n",
    "g = sns.barplot(data=total_enrollent_df, hue='enrollment_target',\n",
    "                x='Site', y='active_student', ax=ax)\n",
    "\n",
    "\n",
    "g.set_xticklabels(g.get_xticklabels(), rotation=35)\n",
    "g.set_title('Average Total High School Enrollment')\n",
    "\n",
    "g.set_xlabel('Site')\n",
    "g.set_ylabel('Number of Students')\n",
    "\n",
    "ax.legend(loc='best', frameon=False)\n",
    "\n",
    "for p in g.patches:\n",
    "    g.annotate(format(p.get_height(), '.0f'), (p.get_x() + p.get_width() / 2., p.get_height()),\n",
    "               ha='center', va='center', xytext=(0, 10), textcoords='offset points')\n",
    "\n",
    "sns.despine()"
   ]
  },
  {
   "cell_type": "markdown",
   "metadata": {},
   "source": [
    "### Chart 2. Average High School Enrollment By Grade Level\n",
    "\n",
    "This chart shows the average enrollment by each grade level, broken out by the enrollment target for sites.\n",
    "\n",
    "Key Observations:\n",
    "\n",
    "* The general enrollment pattern is almost identical regardless of a site's cohort target. This means we can make more general enrollment projections. \n",
    "* Sites tend to increase their enrollment from Freshman to Sophomore year, with a small drop off from Sophomore to Junior year, but then a major (16%) decline from Junior to Senior year. "
   ]
  },
  {
   "cell_type": "code",
   "execution_count": 14,
   "metadata": {},
   "outputs": [],
   "source": [
    "by_grade_df = df_active_students.groupby(\n",
    "    [\"Site\", \"Grade (AT)\", \"Global Academic Year\", \"enrollment_target\"], as_index=False\n",
    ").sum()\n",
    "\n",
    "# removing grades with less than 5 students as this could skew the results\n",
    "\n",
    "by_grade_df = by_grade_df[by_grade_df.active_student > 5]\n",
    "\n"
   ]
  },
  {
   "cell_type": "code",
   "execution_count": 15,
   "metadata": {},
   "outputs": [],
   "source": [
    "def determine_percent_of_capacity(enrollment_target, active_student):\n",
    "    if enrollment_target == 'Enrollment Target: 60':\n",
    "        return active_student / 60 \n",
    "    elif enrollment_target == 'Enrollment Target: 75':\n",
    "        return active_student / 75"
   ]
  },
  {
   "cell_type": "code",
   "execution_count": 16,
   "metadata": {},
   "outputs": [],
   "source": [
    "by_grade_df['enrollment_percentage'] = by_grade_df.apply(\n",
    "    lambda x: determine_percent_of_capacity(x['enrollment_target'], x['active_student']), axis=1)"
   ]
  },
  {
   "cell_type": "code",
   "execution_count": 17,
   "metadata": {},
   "outputs": [],
   "source": [
    "grade_order = [\"9th Grade\", \"10th Grade\", \"11th Grade\", \"12th Grade\"]\n",
    "\n",
    "by_grade_df_table = by_grade_df.pivot_table(\n",
    "    index=[\"enrollment_target\",\"Grade (AT)\"], values=\"active_student\", aggfunc=\"mean\"\n",
    ")\n",
    "\n",
    "by_grade_df_table[\"pct_change\"] = by_grade_df_table[\n",
    "    \"active_student\"\n",
    "].pct_change()\n",
    "\n",
    "by_grade_df_table =  by_grade_df_table.reindex(grade_order, level='Grade (AT)')"
   ]
  },
  {
   "cell_type": "code",
   "execution_count": 18,
   "metadata": {},
   "outputs": [],
   "source": [
    "by_grade_df_table = by_grade_df_table.reset_index()"
   ]
  },
  {
   "cell_type": "code",
   "execution_count": 19,
   "metadata": {},
   "outputs": [],
   "source": [
    "by_grade_df_table['enrollment_percentage'] = by_grade_df_table.apply(\n",
    "    lambda x: determine_percent_of_capacity(x['enrollment_target'], x['active_student']), axis=1)"
   ]
  },
  {
   "cell_type": "code",
   "execution_count": 231,
   "metadata": {},
   "outputs": [
    {
     "data": {
      "image/png": "[encoded data removed]",
      "text/plain": [
       "<Figure size 1008x432 with 1 Axes>"
      ]
     },
     "metadata": {},
     "output_type": "display_data"
    }
   ],
   "source": [
    "fig, ax = plt.subplots(figsize=(14, 6))\n",
    "\n",
    "g = sns.barplot(data=by_grade_df_table, hue='enrollment_target',\n",
    "                x='Grade (AT)', y='enrollment_percentage', ax=ax)\n",
    "\n",
    "g.set_xlabel('Grade')\n",
    "g.set_ylabel('% of Students')\n",
    "ax.legend(bbox_to_anchor=(1, 1), loc=2, borderaxespad=0., frameon=False)\n",
    "\n",
    "\n",
    "ax.set_yticklabels(['{:,.0%}'.format(x) for x in ax.get_yticks()])\n",
    "\n",
    "\n",
    "sns.despine()\n",
    "\n",
    "for p in g.patches:\n",
    "    g.annotate(format(p.get_height(), '.0%'), (p.get_x() + p.get_width() / 2., p.get_height()),\n",
    "               ha='center', va='center', xytext=(0, 10), textcoords='offset points')"
   ]
  },
  {
   "cell_type": "markdown",
   "metadata": {},
   "source": [
    "## College Data"
   ]
  },
  {
   "cell_type": "markdown",
   "metadata": {},
   "source": [
    "### Chart 3. Average College Enrollment By Region and College Year\n",
    " \n",
    "These charts display the average college enrollment for the sites contained in each CT region. More mature regions, NOLA and NorCal, clearly have a similar trend in college numbers compared to younger regions. \n",
    "\n",
    "Note, each bar represents the percentage of enrolled students from the original freshman class - thus the first bar for each region will be 100%. "
   ]
  },
  {
   "cell_type": "code",
   "execution_count": 22,
   "metadata": {},
   "outputs": [],
   "source": [
    "ps_year_count = df3.pivot_table(\n",
    "    index=[\"enrollment_target\", \"Region\", \"Site\", \"High School Class\", \"Grade (AT)\"],\n",
    "    columns=\"active_student\",\n",
    "    values=\"18 Digit ID\",\n",
    "    aggfunc=\"count\",\n",
    ")"
   ]
  },
  {
   "cell_type": "code",
   "execution_count": 23,
   "metadata": {},
   "outputs": [],
   "source": [
    "ps_year_count = ps_year_count.sort_values(\n",
    "    by=[\"enrollment_target\", \"Site\", \"High School Class\"]\n",
    ")"
   ]
  },
  {
   "cell_type": "code",
   "execution_count": 24,
   "metadata": {},
   "outputs": [],
   "source": [
    "ps_year_count_grouped = ps_year_count.groupby([\"Region\", \"Grade (AT)\"]).mean()\n",
    "# ps_year_count_grouped['change'] = ps_year_count_grouped[True].pct_change()*100\n",
    "ps_year_count_grouped[\"change\"] = (\n",
    "    ps_year_count_grouped.groupby(\"Region\")[True].pct_change().round(2) * 100\n",
    ")\n"
   ]
  },
  {
   "cell_type": "code",
   "execution_count": 25,
   "metadata": {},
   "outputs": [],
   "source": [
    "\n",
    "ps_year_count_grouped = ps_year_count_grouped.reset_index()"
   ]
  },
  {
   "cell_type": "code",
   "execution_count": 26,
   "metadata": {},
   "outputs": [],
   "source": [
    "ps_year_count_grouped['Percent of Freshman Cohort'] = ps_year_count_grouped.groupby('Region')[True].apply(lambda x: x.div(x.iloc[0]).subtract(1).add(1))\n"
   ]
  },
  {
   "cell_type": "code",
   "execution_count": 27,
   "metadata": {},
   "outputs": [],
   "source": [
    "ps_year_count_grouped.loc[ps_year_count_grouped['Percent of Freshman Cohort'] == 0, 'Percent of Freshman Cohort'] = 1"
   ]
  },
  {
   "cell_type": "code",
   "execution_count": 244,
   "metadata": {},
   "outputs": [
    {
     "data": {
      "image/png": "[encoded data removed]",
      "text/plain": [
       "<Figure size 720x720 with 4 Axes>"
      ]
     },
     "metadata": {},
     "output_type": "display_data"
    }
   ],
   "source": [
    "\n",
    "g = sns.catplot(data=ps_year_count_grouped, x='Grade (AT)',\n",
    "            y='Percent of Freshman Cohort', col='Region', kind='bar', height=5, aspect=1, col_wrap=2);\n",
    "for ax in g.axes.flat:\n",
    "    ax.set_title(ax.get_title(), fontsize='large')\n",
    "#     ax.set_ylabel(\"Percent of Freshman Cohort\",fontsize=22)\n",
    "    ax.set_xlabel(\"\",fontsize=14)\n",
    "    ax.tick_params(labelsize=14)\n",
    "\n",
    "        \n",
    "    for p in ax.patches:\n",
    "        ax.annotate(format(p.get_height(), '.0%'), (p.get_x() + p.get_width() / 2., p.get_height()),\n",
    "               ha='center', va='center', xytext=(0, 10), textcoords='offset points').set_fontsize(14)\n",
    "        ax.set_yticklabels(['{:,.0%}'.format(x) for x in ax.get_yticks()])\n",
    "\n",
    "\n",
    "    \n",
    "    for item in ([ax.title, ax.xaxis.label, ax.yaxis.label] +\n",
    "              ax.get_xticklabels() + ax.get_yticklabels()):\n",
    "        item.set_fontsize(14)\n",
    "    \n"
   ]
  },
  {
   "cell_type": "markdown",
   "metadata": {},
   "source": [
    "### Table 3  and 4. Cohort  and Region Graduation Rates\n",
    "\n",
    "These two tables list the actual graduation rates for each high school class and more generally by region. They don't impact the overall growth model projections other than informing if it makes sense to make graduation projections region-specific or to estimate if our overall graduation rates are trending up or down. \n",
    "\n",
    "For the first point, I'm hesitant to make a recommendation on region-specific graduation projections yet. I say this for two reasons: \n",
    "* First, Colorado and LA are not mature yet, and their data will heavily impact the necessity for region-specific graduation rates. \n",
    "\n",
    "\n",
    "* Second, NOLA and NorCal do look like they have reasonably different graduation rates, but their overall enrollment percentages (see Chart 3) are reasonably similar. This means that while NOLA has fewer students graduating, the total percentage of students remains similar. This likely is because they have more students dropping out instead of graduating. While this is an important point for programmatic reasons, it isn't influencing overall projections in a dramatic way to warrant the complications introduced with differentiating region projections \n",
    "\n",
    "\n",
    "For the second point, the overall trend in graduation rates doesn't seem notable in either direction and has mostly remained flat as enrollment increases and data becomes more reliable. \n"
   ]
  },
  {
   "cell_type": "code",
   "execution_count": 29,
   "metadata": {},
   "outputs": [],
   "source": [
    "def create_rate_table(df, groupings, level, columns):\n",
    "    _table = (\n",
    "        df.groupby(groupings)\n",
    "        .agg({i: \"value_counts\" for i in df.columns[columns]})\n",
    "        .groupby(level=0)\n",
    "        .transform(lambda x: x)\n",
    "    )\n",
    "    _table = _table.groupby(level=list(range(level))).transform(lambda x: x / x.sum())\n",
    "\n",
    "    _table = _table.drop(index=[False, \"NA\"], level=level)\n",
    "    _table = _table.droplevel(level)\n",
    "    return _table"
   ]
  },
  {
   "cell_type": "code",
   "execution_count": 30,
   "metadata": {},
   "outputs": [
    {
     "data": {
      "text/html": [
       "<style  type=\"text/css\" >\n",
       "</style><table id=\"T_e467ade8_63b9_11ea_a50e_4c327597d7ef\" ><thead>    <tr>        <th class=\"blank level0\" ></th>        <th class=\"col_heading level0 col0\" >Graduated: 4-Year Degree <=4 years</th>        <th class=\"col_heading level0 col1\" >Graduated: 4-Year Degree <=5 years</th>        <th class=\"col_heading level0 col2\" >Graduated: 4-Year Degree <=6 years</th>        <th class=\"col_heading level0 col3\" >Graduated: 4-Year Degree</th>    </tr></thead><tbody>\n",
       "                <tr>\n",
       "                        <th id=\"T_e467ade8_63b9_11ea_a50e_4c327597d7eflevel0_row0\" class=\"row_heading level0 row0\" >2001</th>\n",
       "                        <td id=\"T_e467ade8_63b9_11ea_a50e_4c327597d7efrow0_col0\" class=\"data row0 col0\" >11%</td>\n",
       "                        <td id=\"T_e467ade8_63b9_11ea_a50e_4c327597d7efrow0_col1\" class=\"data row0 col1\" >33%</td>\n",
       "                        <td id=\"T_e467ade8_63b9_11ea_a50e_4c327597d7efrow0_col2\" class=\"data row0 col2\" >56%</td>\n",
       "                        <td id=\"T_e467ade8_63b9_11ea_a50e_4c327597d7efrow0_col3\" class=\"data row0 col3\" >72%</td>\n",
       "            </tr>\n",
       "            <tr>\n",
       "                        <th id=\"T_e467ade8_63b9_11ea_a50e_4c327597d7eflevel0_row1\" class=\"row_heading level0 row1\" >2002</th>\n",
       "                        <td id=\"T_e467ade8_63b9_11ea_a50e_4c327597d7efrow1_col0\" class=\"data row1 col0\" >57%</td>\n",
       "                        <td id=\"T_e467ade8_63b9_11ea_a50e_4c327597d7efrow1_col1\" class=\"data row1 col1\" >64%</td>\n",
       "                        <td id=\"T_e467ade8_63b9_11ea_a50e_4c327597d7efrow1_col2\" class=\"data row1 col2\" >64%</td>\n",
       "                        <td id=\"T_e467ade8_63b9_11ea_a50e_4c327597d7efrow1_col3\" class=\"data row1 col3\" >86%</td>\n",
       "            </tr>\n",
       "            <tr>\n",
       "                        <th id=\"T_e467ade8_63b9_11ea_a50e_4c327597d7eflevel0_row2\" class=\"row_heading level0 row2\" >2003</th>\n",
       "                        <td id=\"T_e467ade8_63b9_11ea_a50e_4c327597d7efrow2_col0\" class=\"data row2 col0\" >28%</td>\n",
       "                        <td id=\"T_e467ade8_63b9_11ea_a50e_4c327597d7efrow2_col1\" class=\"data row2 col1\" >48%</td>\n",
       "                        <td id=\"T_e467ade8_63b9_11ea_a50e_4c327597d7efrow2_col2\" class=\"data row2 col2\" >56%</td>\n",
       "                        <td id=\"T_e467ade8_63b9_11ea_a50e_4c327597d7efrow2_col3\" class=\"data row2 col3\" >80%</td>\n",
       "            </tr>\n",
       "            <tr>\n",
       "                        <th id=\"T_e467ade8_63b9_11ea_a50e_4c327597d7eflevel0_row3\" class=\"row_heading level0 row3\" >2004</th>\n",
       "                        <td id=\"T_e467ade8_63b9_11ea_a50e_4c327597d7efrow3_col0\" class=\"data row3 col0\" >50%</td>\n",
       "                        <td id=\"T_e467ade8_63b9_11ea_a50e_4c327597d7efrow3_col1\" class=\"data row3 col1\" >57%</td>\n",
       "                        <td id=\"T_e467ade8_63b9_11ea_a50e_4c327597d7efrow3_col2\" class=\"data row3 col2\" >67%</td>\n",
       "                        <td id=\"T_e467ade8_63b9_11ea_a50e_4c327597d7efrow3_col3\" class=\"data row3 col3\" >73%</td>\n",
       "            </tr>\n",
       "            <tr>\n",
       "                        <th id=\"T_e467ade8_63b9_11ea_a50e_4c327597d7eflevel0_row4\" class=\"row_heading level0 row4\" >2005</th>\n",
       "                        <td id=\"T_e467ade8_63b9_11ea_a50e_4c327597d7efrow4_col0\" class=\"data row4 col0\" >23%</td>\n",
       "                        <td id=\"T_e467ade8_63b9_11ea_a50e_4c327597d7efrow4_col1\" class=\"data row4 col1\" >37%</td>\n",
       "                        <td id=\"T_e467ade8_63b9_11ea_a50e_4c327597d7efrow4_col2\" class=\"data row4 col2\" >40%</td>\n",
       "                        <td id=\"T_e467ade8_63b9_11ea_a50e_4c327597d7efrow4_col3\" class=\"data row4 col3\" >47%</td>\n",
       "            </tr>\n",
       "            <tr>\n",
       "                        <th id=\"T_e467ade8_63b9_11ea_a50e_4c327597d7eflevel0_row5\" class=\"row_heading level0 row5\" >2006</th>\n",
       "                        <td id=\"T_e467ade8_63b9_11ea_a50e_4c327597d7efrow5_col0\" class=\"data row5 col0\" >23%</td>\n",
       "                        <td id=\"T_e467ade8_63b9_11ea_a50e_4c327597d7efrow5_col1\" class=\"data row5 col1\" >36%</td>\n",
       "                        <td id=\"T_e467ade8_63b9_11ea_a50e_4c327597d7efrow5_col2\" class=\"data row5 col2\" >41%</td>\n",
       "                        <td id=\"T_e467ade8_63b9_11ea_a50e_4c327597d7efrow5_col3\" class=\"data row5 col3\" >55%</td>\n",
       "            </tr>\n",
       "            <tr>\n",
       "                        <th id=\"T_e467ade8_63b9_11ea_a50e_4c327597d7eflevel0_row6\" class=\"row_heading level0 row6\" >2007</th>\n",
       "                        <td id=\"T_e467ade8_63b9_11ea_a50e_4c327597d7efrow6_col0\" class=\"data row6 col0\" >25%</td>\n",
       "                        <td id=\"T_e467ade8_63b9_11ea_a50e_4c327597d7efrow6_col1\" class=\"data row6 col1\" >41%</td>\n",
       "                        <td id=\"T_e467ade8_63b9_11ea_a50e_4c327597d7efrow6_col2\" class=\"data row6 col2\" >52%</td>\n",
       "                        <td id=\"T_e467ade8_63b9_11ea_a50e_4c327597d7efrow6_col3\" class=\"data row6 col3\" >59%</td>\n",
       "            </tr>\n",
       "            <tr>\n",
       "                        <th id=\"T_e467ade8_63b9_11ea_a50e_4c327597d7eflevel0_row7\" class=\"row_heading level0 row7\" >2008</th>\n",
       "                        <td id=\"T_e467ade8_63b9_11ea_a50e_4c327597d7efrow7_col0\" class=\"data row7 col0\" >33%</td>\n",
       "                        <td id=\"T_e467ade8_63b9_11ea_a50e_4c327597d7efrow7_col1\" class=\"data row7 col1\" >52%</td>\n",
       "                        <td id=\"T_e467ade8_63b9_11ea_a50e_4c327597d7efrow7_col2\" class=\"data row7 col2\" >60%</td>\n",
       "                        <td id=\"T_e467ade8_63b9_11ea_a50e_4c327597d7efrow7_col3\" class=\"data row7 col3\" >62%</td>\n",
       "            </tr>\n",
       "            <tr>\n",
       "                        <th id=\"T_e467ade8_63b9_11ea_a50e_4c327597d7eflevel0_row8\" class=\"row_heading level0 row8\" >2009</th>\n",
       "                        <td id=\"T_e467ade8_63b9_11ea_a50e_4c327597d7efrow8_col0\" class=\"data row8 col0\" >26%</td>\n",
       "                        <td id=\"T_e467ade8_63b9_11ea_a50e_4c327597d7efrow8_col1\" class=\"data row8 col1\" >39%</td>\n",
       "                        <td id=\"T_e467ade8_63b9_11ea_a50e_4c327597d7efrow8_col2\" class=\"data row8 col2\" >44%</td>\n",
       "                        <td id=\"T_e467ade8_63b9_11ea_a50e_4c327597d7efrow8_col3\" class=\"data row8 col3\" >61%</td>\n",
       "            </tr>\n",
       "            <tr>\n",
       "                        <th id=\"T_e467ade8_63b9_11ea_a50e_4c327597d7eflevel0_row9\" class=\"row_heading level0 row9\" >2010</th>\n",
       "                        <td id=\"T_e467ade8_63b9_11ea_a50e_4c327597d7efrow9_col0\" class=\"data row9 col0\" >18%</td>\n",
       "                        <td id=\"T_e467ade8_63b9_11ea_a50e_4c327597d7efrow9_col1\" class=\"data row9 col1\" >38%</td>\n",
       "                        <td id=\"T_e467ade8_63b9_11ea_a50e_4c327597d7efrow9_col2\" class=\"data row9 col2\" >41%</td>\n",
       "                        <td id=\"T_e467ade8_63b9_11ea_a50e_4c327597d7efrow9_col3\" class=\"data row9 col3\" >52%</td>\n",
       "            </tr>\n",
       "            <tr>\n",
       "                        <th id=\"T_e467ade8_63b9_11ea_a50e_4c327597d7eflevel0_row10\" class=\"row_heading level0 row10\" >2011</th>\n",
       "                        <td id=\"T_e467ade8_63b9_11ea_a50e_4c327597d7efrow10_col0\" class=\"data row10 col0\" >31%</td>\n",
       "                        <td id=\"T_e467ade8_63b9_11ea_a50e_4c327597d7efrow10_col1\" class=\"data row10 col1\" >44%</td>\n",
       "                        <td id=\"T_e467ade8_63b9_11ea_a50e_4c327597d7efrow10_col2\" class=\"data row10 col2\" >44%</td>\n",
       "                        <td id=\"T_e467ade8_63b9_11ea_a50e_4c327597d7efrow10_col3\" class=\"data row10 col3\" >53%</td>\n",
       "            </tr>\n",
       "            <tr>\n",
       "                        <th id=\"T_e467ade8_63b9_11ea_a50e_4c327597d7eflevel0_row11\" class=\"row_heading level0 row11\" >2012</th>\n",
       "                        <td id=\"T_e467ade8_63b9_11ea_a50e_4c327597d7efrow11_col0\" class=\"data row11 col0\" >28%</td>\n",
       "                        <td id=\"T_e467ade8_63b9_11ea_a50e_4c327597d7efrow11_col1\" class=\"data row11 col1\" >40%</td>\n",
       "                        <td id=\"T_e467ade8_63b9_11ea_a50e_4c327597d7efrow11_col2\" class=\"data row11 col2\" >44%</td>\n",
       "                        <td id=\"T_e467ade8_63b9_11ea_a50e_4c327597d7efrow11_col3\" class=\"data row11 col3\" >48%</td>\n",
       "            </tr>\n",
       "            <tr>\n",
       "                        <th id=\"T_e467ade8_63b9_11ea_a50e_4c327597d7eflevel0_row12\" class=\"row_heading level0 row12\" >2013</th>\n",
       "                        <td id=\"T_e467ade8_63b9_11ea_a50e_4c327597d7efrow12_col0\" class=\"data row12 col0\" >28%</td>\n",
       "                        <td id=\"T_e467ade8_63b9_11ea_a50e_4c327597d7efrow12_col1\" class=\"data row12 col1\" >40%</td>\n",
       "                        <td id=\"T_e467ade8_63b9_11ea_a50e_4c327597d7efrow12_col2\" class=\"data row12 col2\" >42%</td>\n",
       "                        <td id=\"T_e467ade8_63b9_11ea_a50e_4c327597d7efrow12_col3\" class=\"data row12 col3\" >43%</td>\n",
       "            </tr>\n",
       "            <tr>\n",
       "                        <th id=\"T_e467ade8_63b9_11ea_a50e_4c327597d7eflevel0_row13\" class=\"row_heading level0 row13\" >2014</th>\n",
       "                        <td id=\"T_e467ade8_63b9_11ea_a50e_4c327597d7efrow13_col0\" class=\"data row13 col0\" >36%</td>\n",
       "                        <td id=\"T_e467ade8_63b9_11ea_a50e_4c327597d7efrow13_col1\" class=\"data row13 col1\" >53%</td>\n",
       "                        <td id=\"T_e467ade8_63b9_11ea_a50e_4c327597d7efrow13_col2\" class=\"data row13 col2\" >55%</td>\n",
       "                        <td id=\"T_e467ade8_63b9_11ea_a50e_4c327597d7efrow13_col3\" class=\"data row13 col3\" >55%</td>\n",
       "            </tr>\n",
       "            <tr>\n",
       "                        <th id=\"T_e467ade8_63b9_11ea_a50e_4c327597d7eflevel0_row14\" class=\"row_heading level0 row14\" >2015</th>\n",
       "                        <td id=\"T_e467ade8_63b9_11ea_a50e_4c327597d7efrow14_col0\" class=\"data row14 col0\" >29%</td>\n",
       "                        <td id=\"T_e467ade8_63b9_11ea_a50e_4c327597d7efrow14_col1\" class=\"data row14 col1\" >36%</td>\n",
       "                        <td id=\"T_e467ade8_63b9_11ea_a50e_4c327597d7efrow14_col2\" class=\"data row14 col2\" >36%</td>\n",
       "                        <td id=\"T_e467ade8_63b9_11ea_a50e_4c327597d7efrow14_col3\" class=\"data row14 col3\" >36%</td>\n",
       "            </tr>\n",
       "    </tbody></table>"
      ],
      "text/plain": [
       "<pandas.io.formats.style.Styler at 0x1a1ee77a10>"
      ]
     },
     "execution_count": 30,
     "metadata": {},
     "output_type": "execute_result"
    }
   ],
   "source": [
    "grad_rates_class = create_rate_table(df2, [\"High School Class\"], 1, list(range(4, 8)))\n",
    "\n",
    "grad_rates_class.round(2).style.format('{:.0%}')"
   ]
  },
  {
   "cell_type": "code",
   "execution_count": 31,
   "metadata": {},
   "outputs": [
    {
     "data": {
      "text/html": [
       "<style  type=\"text/css\" >\n",
       "</style><table id=\"T_e58f6c6a_63b9_11ea_a50e_4c327597d7ef\" ><thead>    <tr>        <th class=\"blank level0\" ></th>        <th class=\"col_heading level0 col0\" >Graduated: 4-Year Degree <=4 years</th>        <th class=\"col_heading level0 col1\" >Graduated: 4-Year Degree <=5 years</th>        <th class=\"col_heading level0 col2\" >Graduated: 4-Year Degree <=6 years</th>        <th class=\"col_heading level0 col3\" >Graduated: 4-Year Degree</th>    </tr></thead><tbody>\n",
       "                <tr>\n",
       "                        <th id=\"T_e58f6c6a_63b9_11ea_a50e_4c327597d7eflevel0_row0\" class=\"row_heading level0 row0\" >Colorado</th>\n",
       "                        <td id=\"T_e58f6c6a_63b9_11ea_a50e_4c327597d7efrow0_col0\" class=\"data row0 col0\" >34%</td>\n",
       "                        <td id=\"T_e58f6c6a_63b9_11ea_a50e_4c327597d7efrow0_col1\" class=\"data row0 col1\" >43%</td>\n",
       "                        <td id=\"T_e58f6c6a_63b9_11ea_a50e_4c327597d7efrow0_col2\" class=\"data row0 col2\" >43%</td>\n",
       "                        <td id=\"T_e58f6c6a_63b9_11ea_a50e_4c327597d7efrow0_col3\" class=\"data row0 col3\" >43%</td>\n",
       "            </tr>\n",
       "            <tr>\n",
       "                        <th id=\"T_e58f6c6a_63b9_11ea_a50e_4c327597d7eflevel0_row1\" class=\"row_heading level0 row1\" >New Orleans</th>\n",
       "                        <td id=\"T_e58f6c6a_63b9_11ea_a50e_4c327597d7efrow1_col0\" class=\"data row1 col0\" >21%</td>\n",
       "                        <td id=\"T_e58f6c6a_63b9_11ea_a50e_4c327597d7efrow1_col1\" class=\"data row1 col1\" >28%</td>\n",
       "                        <td id=\"T_e58f6c6a_63b9_11ea_a50e_4c327597d7efrow1_col2\" class=\"data row1 col2\" >32%</td>\n",
       "                        <td id=\"T_e58f6c6a_63b9_11ea_a50e_4c327597d7efrow1_col3\" class=\"data row1 col3\" >34%</td>\n",
       "            </tr>\n",
       "            <tr>\n",
       "                        <th id=\"T_e58f6c6a_63b9_11ea_a50e_4c327597d7eflevel0_row2\" class=\"row_heading level0 row2\" >Northern California</th>\n",
       "                        <td id=\"T_e58f6c6a_63b9_11ea_a50e_4c327597d7efrow2_col0\" class=\"data row2 col0\" >31%</td>\n",
       "                        <td id=\"T_e58f6c6a_63b9_11ea_a50e_4c327597d7efrow2_col1\" class=\"data row2 col1\" >45%</td>\n",
       "                        <td id=\"T_e58f6c6a_63b9_11ea_a50e_4c327597d7efrow2_col2\" class=\"data row2 col2\" >48%</td>\n",
       "                        <td id=\"T_e58f6c6a_63b9_11ea_a50e_4c327597d7efrow2_col3\" class=\"data row2 col3\" >54%</td>\n",
       "            </tr>\n",
       "    </tbody></table>"
      ],
      "text/plain": [
       "<pandas.io.formats.style.Styler at 0x1a2067dd50>"
      ]
     },
     "execution_count": 31,
     "metadata": {},
     "output_type": "execute_result"
    }
   ],
   "source": [
    "grad_rates_region = create_rate_table(df2, [\"Region\"], 1, list(range(4, 8)))\n",
    "grad_rates_region.round(2).style.format('{:.0%}')"
   ]
  },
  {
   "cell_type": "code",
   "execution_count": 32,
   "metadata": {},
   "outputs": [],
   "source": [
    "# Year 2 Calculation\n",
    "pre_year_rate = .75\n",
    "previous_year = 60*pre_year_rate\n",
    "\n",
    "this_year_rate = .085\n",
    "# previous_year * (1-this_year_rate) / 60"
   ]
  },
  {
   "cell_type": "code",
   "execution_count": 89,
   "metadata": {},
   "outputs": [],
   "source": [
    "# Year 3 Calculation\n",
    "pre_year_rate = .69\n",
    "previous_year = 60*pre_year_rate\n",
    "\n",
    "this_year_rate = .1925\n",
    "# previous_year * (1-this_year_rate) / 60\n"
   ]
  },
  {
   "cell_type": "code",
   "execution_count": 90,
   "metadata": {},
   "outputs": [],
   "source": [
    "# Year 3 Calculation\n",
    "pre_year_rate = .55\n",
    "previous_year = 60*pre_year_rate\n",
    "\n",
    "this_year_rate = .07\n",
    "# previous_year * (1-this_year_rate) / 60\n"
   ]
  },
  {
   "cell_type": "code",
   "execution_count": 91,
   "metadata": {},
   "outputs": [],
   "source": [
    "# Year 5 Calculation\n",
    "pre_year_rate = .51\n",
    "previous_year = 60*pre_year_rate\n",
    "\n",
    "this_year_rate = .43\n",
    "# previous_year * (1-this_year_rate) / 60\n"
   ]
  },
  {
   "cell_type": "code",
   "execution_count": 92,
   "metadata": {},
   "outputs": [],
   "source": [
    "# Year 6 Calculation\n",
    "pre_year_rate = .29\n",
    "previous_year = 60*pre_year_rate\n",
    "\n",
    "this_year_rate = .49\n",
    "# previous_year * (1-this_year_rate) / 60\n"
   ]
  },
  {
   "cell_type": "code",
   "execution_count": 62,
   "metadata": {},
   "outputs": [
    {
     "data": {
      "text/html": [
       "<script src=\"https://cdn.rawgit.com/parente/4c3e6936d0d7a46fd071/raw/65b816fb9bdd3c28b4ddf3af602bfd6015486383/code_toggle.js\"></script>\n",
       "<style>\n",
       "// div.prompt {display:none}\n",
       "</style>\n"
      ],
      "text/plain": [
       "<IPython.core.display.HTML object>"
      ]
     },
     "metadata": {},
     "output_type": "display_data"
    }
   ],
   "source": [
    "%%html\n",
    "<script src=\"https://cdn.rawgit.com/parente/4c3e6936d0d7a46fd071/raw/65b816fb9bdd3c28b4ddf3af602bfd6015486383/code_toggle.js\"></script>\n"
   ]
  },
  {
   "cell_type": "code",
   "execution_count": 233,
   "metadata": {},
   "outputs": [
    {
     "data": {
      "text/html": [
       "\n",
       "<style>\n",
       "div.prompt {display:none}\n",
       "\n",
       "\n",
       "h1, .h1 {\n",
       "    font-size: 33px;\n",
       "    font-family: \"Trebuchet MS\";\n",
       "    font-size: 2.5em !important;\n",
       "    color: #2a7bbd;\n",
       "}\n",
       "\n",
       "h2, .h2 {\n",
       "    font-size: 10px;\n",
       "    font-family: \"Trebuchet MS\";\n",
       "    color: #2a7bbd; \n",
       "    \n",
       "}\n",
       "\n",
       "\n",
       "h3, .h3 {\n",
       "    font-size: 10px;\n",
       "    font-family: \"Trebuchet MS\";\n",
       "    color: #5d6063; \n",
       "    \n",
       "}\n",
       "\n",
       ".rendered_html table {\n",
       "\n",
       "    font-size: 14px;\n",
       "}\n",
       "\n",
       ".output_png {\n",
       "  display: flex;\n",
       "  justify-content: center;\n",
       "}\n",
       "\n",
       "table {\n",
       "    display: inline-block\n",
       "}\n",
       "\n",
       "</style>\n"
      ],
      "text/plain": [
       "<IPython.core.display.HTML object>"
      ]
     },
     "metadata": {},
     "output_type": "display_data"
    }
   ],
   "source": [
    "%%html\n",
    "\n",
    "<style>\n",
    "div.prompt {display:none}\n",
    "\n",
    "\n",
    "h1, .h1 {\n",
    "    font-size: 33px;\n",
    "    font-family: \"Trebuchet MS\";\n",
    "    font-size: 2.5em !important;\n",
    "    color: #2a7bbd;\n",
    "}\n",
    "\n",
    "h2, .h2 {\n",
    "    font-size: 10px;\n",
    "    font-family: \"Trebuchet MS\";\n",
    "    color: #2a7bbd; \n",
    "    \n",
    "}\n",
    "\n",
    "\n",
    "h3, .h3 {\n",
    "    font-size: 10px;\n",
    "    font-family: \"Trebuchet MS\";\n",
    "    color: #5d6063; \n",
    "    \n",
    "}\n",
    "\n",
    ".rendered_html table {\n",
    "\n",
    "    font-size: 14px;\n",
    "}\n",
    "\n",
    ".output_png {\n",
    "  display: flex;\n",
    "  justify-content: center;\n",
    "}\n",
    "\n",
    "table {\n",
    "    display: inline-block\n",
    "}\n",
    "\n",
    "</style>"
   ]
  },
  {
   "cell_type": "code",
   "execution_count": null,
   "metadata": {},
   "outputs": [],
   "source": []
  }
 ],
 "metadata": {
  "hide_input": true,
  "jupytext": {
   "formats": "ipynb,md"
  },
  "kernelspec": {
   "display_name": "Python 3",
   "language": "python",
   "name": "python3"
  },
  "language_info": {
   "codemirror_mode": {
    "name": "ipython",
    "version": 3
   },
   "file_extension": ".py",
   "mimetype": "text/x-python",
   "name": "python",
   "nbconvert_exporter": "python",
   "pygments_lexer": "ipython3",
   "version": "3.7.4"
  },
  "toc": {
   "base_numbering": 1,
   "nav_menu": {},
   "number_sections": true,
   "sideBar": true,
   "skip_h1_title": false,
   "title_cell": "Table of Contents",
   "title_sidebar": "Contents",
   "toc_cell": false,
   "toc_position": {},
   "toc_section_display": true,
   "toc_window_display": false
  }
 },
 "nbformat": 4,
 "nbformat_minor": 4
}
