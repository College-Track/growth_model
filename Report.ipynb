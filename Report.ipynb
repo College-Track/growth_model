{
 "cells": [
  {
   "cell_type": "markdown",
   "metadata": {},
   "source": [
    "# FY 20 Growth Model Updates\n",
    "\n",
    "Goal: Evaluate historical data from the past four fiscal years (FY16 -FY19) to determine more accurate averages for the following metrics:\n",
    "\n",
    "* Year to year high school retention rate\n",
    "    * i.e. The percent of students who continue on from their Junior to Sophomore year.\n",
    "* Year to year college retntion rate\n",
    "    * i.e. The percent of students who continue on from their four year to fifth year.\n",
    "      * Note, this report will treat graduates and inactive students as the same. For example, 100 students are enrolled in their 4th year of college. At the start of their fifth year, 50 students have graduated, and 20 have dropped out (became inactive). The retention rate for 4th -> 5th year will be 30%.\n",
    "* Updated college graduation rates by high school class"
   ]
  },
  {
   "cell_type": "code",
   "execution_count": 1,
   "metadata": {
    "lines_to_next_cell": 2
   },
   "outputs": [],
   "source": [
    "import pandas as pd\n",
    "from pathlib import Path\n",
    "from datetime import datetime\n",
    "import numpy as np\n",
    "\n",
    "\n",
    "import seaborn as sns\n",
    "import matplotlib.pyplot as plt\n",
    "\n",
    "sns.set_style(\"white\")"
   ]
  },
  {
   "cell_type": "code",
   "execution_count": 2,
   "metadata": {},
   "outputs": [],
   "source": [
    "%matplotlib inline"
   ]
  },
  {
   "cell_type": "code",
   "execution_count": 3,
   "metadata": {},
   "outputs": [],
   "source": [
    "today = datetime.today()\n",
    "in_file = Path.cwd() / \"data\" / \"processed\" / \"processed_data.pkl\"\n",
    "in_file2 = Path.cwd() / \"data\" / \"processed\" / \"processed_data_file2.pkl\"\n",
    "in_file3 = Path.cwd() / \"data\" / \"processed\" / \"processed_data_file3.pkl\"\n",
    "\n",
    "active_students = Path.cwd() / \"data\" / \"processed\" / \"active_students.pkl\"\n",
    "\n",
    "report_dir = Path.cwd() / \"reports\"\n",
    "report_file = report_dir / \"Excel_Analysis_{today:%b-%d-%Y}.xlsx\""
   ]
  },
  {
   "cell_type": "code",
   "execution_count": 4,
   "metadata": {
    "lines_to_next_cell": 2
   },
   "outputs": [],
   "source": [
    "df = pd.read_pickle(in_file)\n",
    "\n",
    "df2 = pd.read_pickle(in_file2)\n",
    "\n",
    "df3 = pd.read_pickle(in_file3)\n",
    "\n",
    "df_active_students = pd.read_pickle(active_students)"
   ]
  },
  {
   "cell_type": "code",
   "execution_count": 5,
   "metadata": {},
   "outputs": [],
   "source": [
    "total_enrollent_df = df_active_students.groupby(\n",
    "    [\"Site\", \"Global Academic Year\", \"enrollment_target\"], as_index=False\n",
    ").sum()"
   ]
  },
  {
   "cell_type": "code",
   "execution_count": 6,
   "metadata": {},
   "outputs": [],
   "source": [
    "total_enrollent_df = total_enrollent_df.pivot_table(\n",
    "    index=[\"enrollment_target\", \"Site\"], values=\"active_student\", aggfunc=\"mean\"\n",
    ")"
   ]
  },
  {
   "cell_type": "code",
   "execution_count": 7,
   "metadata": {},
   "outputs": [],
   "source": [
    "total_enrollent_df = total_enrollent_df.reset_index().sort_values(\"active_student\")"
   ]
  },
  {
   "cell_type": "markdown",
   "metadata": {},
   "source": [
    "## High School Data"
   ]
  },
  {
   "cell_type": "markdown",
   "metadata": {},
   "source": [
    "### Chart 1. Average Total High School Enrollment\n",
    "This shows the average total enrollment at each site, broken out by each site's enrollment target.\n",
    "\n",
    "Using the prior logic, a site would meet their enrollment target if they retained 100% of their freshman, and sophomore students, 95% of their juniors, and 88% of their seniors. This would result in the following total numbers:\n",
    "\n",
    "* 75 Student Enrollment Target: 287\n",
    "* 60 Student Enrollment Target: 230\n",
    "\n",
    "\n",
    "As we can see in the following chart, only San Francisco and New Orleans averaged hitting their full enrollment target in the past four years.\n",
    "\n",
    "Note, The Durant Center only has one cohort of students, which did exceed their cohort target."
   ]
  },
  {
   "cell_type": "code",
   "execution_count": null,
   "metadata": {},
   "outputs": [],
   "source": [
    "fig, ax = plt.subplots(figsize=(12, 5))\n",
    "\n",
    "\n",
    "g = sns.barplot(\n",
    "    data=total_enrollent_df,\n",
    "    hue=\"enrollment_target\",\n",
    "    x=\"Site\",\n",
    "    y=\"active_student\",\n",
    "    ax=ax,\n",
    ")\n",
    "\n",
    "\n",
    "g.set_xticklabels(g.get_xticklabels(), rotation=45)\n",
    "g.set_title(\"Average Total High School Enrollment\")\n",
    "\n",
    "\n",
    "for p in g.patches:\n",
    "    g.annotate(\n",
    "        format(p.get_height(), \".0f\"),\n",
    "        (p.get_x() + p.get_width() / 2.0, p.get_height()),\n",
    "        ha=\"center\",\n",
    "        va=\"center\",\n",
    "        xytext=(0, 10),\n",
    "        textcoords=\"offset points\",\n",
    "    )\n",
    "\n",
    "sns.despine()"
   ]
  },
  {
   "cell_type": "markdown",
   "metadata": {},
   "source": [
    "### Chart 2. Average High School Enrollment By Grade Level\n",
    "\n",
    "This chart shows the average enrollment by each grade level, broken out by the enrollment target for sites.\n",
    "\n",
    "Key notes:\n",
    "\n",
    "* The general enrollment pattern is almost identical regardless of a site's cohort target. This means we can make more general enrollment projections.\n",
    "* Sites tend to increase their enrollment from Freshman to Sophomore year, with a small drop off from Sophomore to Junior year, but then a major (17%) decline from Junior to Senior year."
   ]
  },
  {
   "cell_type": "code",
   "execution_count": 9,
   "metadata": {
    "lines_to_next_cell": 2
   },
   "outputs": [],
   "source": [
    "by_grade_df = df_active_students.groupby(\n",
    "    [\"Site\", \"Grade (AT)\", \"Global Academic Year\", \"enrollment_target\"], as_index=False\n",
    ").sum()\n",
    "\n",
    "# removing grades with less than 5 students as this could skew the results\n",
    "\n",
    "by_grade_df = by_grade_df[by_grade_df.active_student > 5]"
   ]
  },
  {
   "cell_type": "code",
   "execution_count": 10,
   "metadata": {},
   "outputs": [],
   "source": [
    "grade_order = [\"9th Grade\", \"10th Grade\", \"11th Grade\", \"12th Grade\"]\n",
    "\n",
    "by_grade_df_table = by_grade_df.pivot_table(\n",
    "    index=[\"enrollment_target\", \"Grade (AT)\"], values=\"active_student\", aggfunc=\"mean\"\n",
    ")\n",
    "\n",
    "by_grade_df_table[\"pct_change\"] = by_grade_df_table[\"active_student\"].pct_change()\n",
    "\n",
    "by_grade_df_table = by_grade_df_table.reindex(grade_order, level=\"Grade (AT)\")"
   ]
  },
  {
   "cell_type": "code",
   "execution_count": 11,
   "metadata": {},
   "outputs": [],
   "source": [
    "by_grade_df_table = by_grade_df_table.reset_index()"
   ]
  },
  {
   "cell_type": "code",
   "execution_count": null,
   "metadata": {
    "lines_to_next_cell": 2
   },
   "outputs": [],
   "source": [
    "fig, ax = plt.subplots(figsize=(12, 5))\n",
    "\n",
    "g = sns.barplot(\n",
    "    data=by_grade_df_table,\n",
    "    hue=\"enrollment_target\",\n",
    "    x=\"Grade (AT)\",\n",
    "    y=\"active_student\",\n",
    "    ax=ax,\n",
    ")\n",
    "\n",
    "\n",
    "for p in g.patches:\n",
    "    g.annotate(\n",
    "        format(p.get_height(), \".0f\"),\n",
    "        (p.get_x() + p.get_width() / 2.0, p.get_height()),\n",
    "        ha=\"center\",\n",
    "        va=\"center\",\n",
    "        xytext=(0, 10),\n",
    "        textcoords=\"offset points\",\n",
    "    )"
   ]
  },
  {
   "cell_type": "markdown",
   "metadata": {},
   "source": [
    "## College Data"
   ]
  },
  {
   "cell_type": "markdown",
   "metadata": {},
   "source": [
    "### Chart 3. Average College Enrollment By Region and College Year\n",
    "\n",
    "These charts display the average college enrollment for the sites contained in each CT region. More mature regions, NOLA and Nor Cal, clearly have a similar trend in college numbers compared to younger regions."
   ]
  },
  {
   "cell_type": "code",
   "execution_count": 20,
   "metadata": {},
   "outputs": [],
   "source": [
    "ps_year_count = df3.pivot_table(\n",
    "    index=[\"enrollment_target\", \"Region\", \"Site\", \"High School Class\", \"Grade (AT)\"],\n",
    "    columns=\"active_student\",\n",
    "    values=\"18 Digit ID\",\n",
    "    aggfunc=\"count\",\n",
    ")"
   ]
  },
  {
   "cell_type": "code",
   "execution_count": 21,
   "metadata": {},
   "outputs": [],
   "source": [
    "ps_year_count = ps_year_count.sort_values(\n",
    "    by=[\"enrollment_target\", \"Site\", \"High School Class\"]\n",
    ")"
   ]
  },
  {
   "cell_type": "code",
   "execution_count": 22,
   "metadata": {
    "lines_to_next_cell": 2
   },
   "outputs": [],
   "source": [
    "ps_year_count_grouped = ps_year_count.groupby([\"Region\", \"Grade (AT)\"]).mean()\n",
    "# ps_year_count_grouped['change'] = ps_year_count_grouped[True].pct_change()*100\n",
    "ps_year_count_grouped[\"change\"] = (\n",
    "    ps_year_count_grouped.groupby(\"Region\")[True].pct_change().round(2) * 100\n",
    ")"
   ]
  },
  {
   "cell_type": "code",
   "execution_count": 23,
   "metadata": {},
   "outputs": [],
   "source": [
    "ps_year_count_grouped = ps_year_count_grouped.reset_index()"
   ]
  },
  {
   "cell_type": "code",
   "execution_count": null,
   "metadata": {},
   "outputs": [],
   "source": [
    "sns.catplot(\n",
    "    data=ps_year_count_grouped, x=\"Grade (AT)\", y=True, col=\"Region\", kind=\"bar\"\n",
    ")"
   ]
  },
  {
   "cell_type": "markdown",
   "metadata": {},
   "source": [
    "### Chart 4. Cohort Graduation Rates"
   ]
  },
  {
   "cell_type": "code",
   "execution_count": 25,
   "metadata": {},
   "outputs": [],
   "source": [
    "def create_rate_table(df, groupings, level, columns):\n",
    "    _table = (\n",
    "        df.groupby(groupings)\n",
    "        .agg({i: \"value_counts\" for i in df.columns[columns]})\n",
    "        .groupby(level=0)\n",
    "        .transform(lambda x: x)\n",
    "    )\n",
    "    _table = _table.groupby(level=list(range(level))).transform(lambda x: x / x.sum())\n",
    "\n",
    "    _table = _table.drop(index=[False, \"NA\"], level=level)\n",
    "    _table = _table.droplevel(level)\n",
    "    return _table"
   ]
  },
  {
   "cell_type": "code",
   "execution_count": 33,
   "metadata": {},
   "outputs": [
    {
     "data": {
      "text/html": [
       "<div>\n",
       "<style scoped>\n",
       "    .dataframe tbody tr th:only-of-type {\n",
       "        vertical-align: middle;\n",
       "    }\n",
       "\n",
       "    .dataframe tbody tr th {\n",
       "        vertical-align: top;\n",
       "    }\n",
       "\n",
       "    .dataframe thead th {\n",
       "        text-align: right;\n",
       "    }\n",
       "</style>\n",
       "<table border=\"1\" class=\"dataframe\">\n",
       "  <thead>\n",
       "    <tr style=\"text-align: right;\">\n",
       "      <th></th>\n",
       "      <th>Graduated: 4-Year Degree &lt;=4 years</th>\n",
       "      <th>Graduated: 4-Year Degree &lt;=5 years</th>\n",
       "      <th>Graduated: 4-Year Degree &lt;=6 years</th>\n",
       "      <th>Graduated: 4-Year Degree</th>\n",
       "    </tr>\n",
       "  </thead>\n",
       "  <tbody>\n",
       "    <tr>\n",
       "      <td>2001</td>\n",
       "      <td>0.11</td>\n",
       "      <td>0.33</td>\n",
       "      <td>0.56</td>\n",
       "      <td>0.72</td>\n",
       "    </tr>\n",
       "    <tr>\n",
       "      <td>2002</td>\n",
       "      <td>0.57</td>\n",
       "      <td>0.64</td>\n",
       "      <td>0.64</td>\n",
       "      <td>0.86</td>\n",
       "    </tr>\n",
       "    <tr>\n",
       "      <td>2003</td>\n",
       "      <td>0.28</td>\n",
       "      <td>0.48</td>\n",
       "      <td>0.56</td>\n",
       "      <td>0.80</td>\n",
       "    </tr>\n",
       "    <tr>\n",
       "      <td>2004</td>\n",
       "      <td>0.50</td>\n",
       "      <td>0.57</td>\n",
       "      <td>0.67</td>\n",
       "      <td>0.73</td>\n",
       "    </tr>\n",
       "    <tr>\n",
       "      <td>2005</td>\n",
       "      <td>0.23</td>\n",
       "      <td>0.37</td>\n",
       "      <td>0.40</td>\n",
       "      <td>0.47</td>\n",
       "    </tr>\n",
       "    <tr>\n",
       "      <td>2006</td>\n",
       "      <td>0.23</td>\n",
       "      <td>0.36</td>\n",
       "      <td>0.41</td>\n",
       "      <td>0.55</td>\n",
       "    </tr>\n",
       "    <tr>\n",
       "      <td>2007</td>\n",
       "      <td>0.25</td>\n",
       "      <td>0.41</td>\n",
       "      <td>0.52</td>\n",
       "      <td>0.59</td>\n",
       "    </tr>\n",
       "    <tr>\n",
       "      <td>2008</td>\n",
       "      <td>0.33</td>\n",
       "      <td>0.52</td>\n",
       "      <td>0.60</td>\n",
       "      <td>0.62</td>\n",
       "    </tr>\n",
       "    <tr>\n",
       "      <td>2009</td>\n",
       "      <td>0.26</td>\n",
       "      <td>0.39</td>\n",
       "      <td>0.44</td>\n",
       "      <td>0.61</td>\n",
       "    </tr>\n",
       "    <tr>\n",
       "      <td>2010</td>\n",
       "      <td>0.18</td>\n",
       "      <td>0.38</td>\n",
       "      <td>0.41</td>\n",
       "      <td>0.52</td>\n",
       "    </tr>\n",
       "    <tr>\n",
       "      <td>2011</td>\n",
       "      <td>0.31</td>\n",
       "      <td>0.44</td>\n",
       "      <td>0.44</td>\n",
       "      <td>0.53</td>\n",
       "    </tr>\n",
       "    <tr>\n",
       "      <td>2012</td>\n",
       "      <td>0.28</td>\n",
       "      <td>0.40</td>\n",
       "      <td>0.44</td>\n",
       "      <td>0.48</td>\n",
       "    </tr>\n",
       "    <tr>\n",
       "      <td>2013</td>\n",
       "      <td>0.28</td>\n",
       "      <td>0.40</td>\n",
       "      <td>0.42</td>\n",
       "      <td>0.43</td>\n",
       "    </tr>\n",
       "    <tr>\n",
       "      <td>2014</td>\n",
       "      <td>0.36</td>\n",
       "      <td>0.53</td>\n",
       "      <td>0.55</td>\n",
       "      <td>0.55</td>\n",
       "    </tr>\n",
       "    <tr>\n",
       "      <td>2015</td>\n",
       "      <td>0.29</td>\n",
       "      <td>0.36</td>\n",
       "      <td>0.36</td>\n",
       "      <td>0.36</td>\n",
       "    </tr>\n",
       "  </tbody>\n",
       "</table>\n",
       "</div>"
      ],
      "text/plain": [
       "      Graduated: 4-Year Degree <=4 years  Graduated: 4-Year Degree <=5 years  \\\n",
       "2001                                0.11                                0.33   \n",
       "2002                                0.57                                0.64   \n",
       "2003                                0.28                                0.48   \n",
       "2004                                0.50                                0.57   \n",
       "2005                                0.23                                0.37   \n",
       "2006                                0.23                                0.36   \n",
       "2007                                0.25                                0.41   \n",
       "2008                                0.33                                0.52   \n",
       "2009                                0.26                                0.39   \n",
       "2010                                0.18                                0.38   \n",
       "2011                                0.31                                0.44   \n",
       "2012                                0.28                                0.40   \n",
       "2013                                0.28                                0.40   \n",
       "2014                                0.36                                0.53   \n",
       "2015                                0.29                                0.36   \n",
       "\n",
       "      Graduated: 4-Year Degree <=6 years  Graduated: 4-Year Degree  \n",
       "2001                                0.56                      0.72  \n",
       "2002                                0.64                      0.86  \n",
       "2003                                0.56                      0.80  \n",
       "2004                                0.67                      0.73  \n",
       "2005                                0.40                      0.47  \n",
       "2006                                0.41                      0.55  \n",
       "2007                                0.52                      0.59  \n",
       "2008                                0.60                      0.62  \n",
       "2009                                0.44                      0.61  \n",
       "2010                                0.41                      0.52  \n",
       "2011                                0.44                      0.53  \n",
       "2012                                0.44                      0.48  \n",
       "2013                                0.42                      0.43  \n",
       "2014                                0.55                      0.55  \n",
       "2015                                0.36                      0.36  "
      ]
     },
     "execution_count": 33,
     "metadata": {},
     "output_type": "execute_result"
    }
   ],
   "source": [
    "grad_rates_class = create_rate_table(df2, [\"High School Class\"], 1, list(range(4, 8)))\n",
    "\n",
    "grad_rates_class.round(2)"
   ]
  },
  {
   "cell_type": "code",
   "execution_count": 30,
   "metadata": {},
   "outputs": [
    {
     "data": {
      "text/html": [
       "<div>\n",
       "<style scoped>\n",
       "    .dataframe tbody tr th:only-of-type {\n",
       "        vertical-align: middle;\n",
       "    }\n",
       "\n",
       "    .dataframe tbody tr th {\n",
       "        vertical-align: top;\n",
       "    }\n",
       "\n",
       "    .dataframe thead th {\n",
       "        text-align: right;\n",
       "    }\n",
       "</style>\n",
       "<table border=\"1\" class=\"dataframe\">\n",
       "  <thead>\n",
       "    <tr style=\"text-align: right;\">\n",
       "      <th></th>\n",
       "      <th>Graduated: 4-Year Degree &lt;=4 years</th>\n",
       "      <th>Graduated: 4-Year Degree &lt;=5 years</th>\n",
       "      <th>Graduated: 4-Year Degree &lt;=6 years</th>\n",
       "      <th>Graduated: 4-Year Degree</th>\n",
       "    </tr>\n",
       "  </thead>\n",
       "  <tbody>\n",
       "    <tr>\n",
       "      <td>Colorado</td>\n",
       "      <td>0.34</td>\n",
       "      <td>0.43</td>\n",
       "      <td>0.43</td>\n",
       "      <td>0.43</td>\n",
       "    </tr>\n",
       "    <tr>\n",
       "      <td>New Orleans</td>\n",
       "      <td>0.21</td>\n",
       "      <td>0.28</td>\n",
       "      <td>0.32</td>\n",
       "      <td>0.34</td>\n",
       "    </tr>\n",
       "    <tr>\n",
       "      <td>Northern California</td>\n",
       "      <td>0.31</td>\n",
       "      <td>0.45</td>\n",
       "      <td>0.48</td>\n",
       "      <td>0.54</td>\n",
       "    </tr>\n",
       "  </tbody>\n",
       "</table>\n",
       "</div>"
      ],
      "text/plain": [
       "                     Graduated: 4-Year Degree <=4 years  \\\n",
       "Colorado                                           0.34   \n",
       "New Orleans                                        0.21   \n",
       "Northern California                                0.31   \n",
       "\n",
       "                     Graduated: 4-Year Degree <=5 years  \\\n",
       "Colorado                                           0.43   \n",
       "New Orleans                                        0.28   \n",
       "Northern California                                0.45   \n",
       "\n",
       "                     Graduated: 4-Year Degree <=6 years  \\\n",
       "Colorado                                           0.43   \n",
       "New Orleans                                        0.32   \n",
       "Northern California                                0.48   \n",
       "\n",
       "                     Graduated: 4-Year Degree  \n",
       "Colorado                                 0.43  \n",
       "New Orleans                              0.34  \n",
       "Northern California                      0.54  "
      ]
     },
     "execution_count": 30,
     "metadata": {},
     "output_type": "execute_result"
    }
   ],
   "source": [
    "grad_rates_region = create_rate_table(df2, [\"Region\"], 1, list(range(4, 8)))\n",
    "grad_rates_region.round(2)"
   ]
  },
  {
   "cell_type": "markdown",
   "metadata": {},
   "source": [
    "## Recommendations / Decision Points"
   ]
  },
  {
   "cell_type": "code",
   "execution_count": null,
   "metadata": {},
   "outputs": [],
   "source": [
    "%%html\n",
    "<script src=\"https://cdn.rawgit.com/parente/4c3e6936d0d7a46fd071/raw/65b816fb9bdd3c28b4ddf3af602bfd6015486383/code_toggle.js\"></script>\n",
    "<style>\n",
    "# Uncomment before publishing\n",
    "# div.prompt {display:none}\n",
    "</style>"
   ]
  },
  {
   "cell_type": "code",
   "execution_count": null,
   "metadata": {},
   "outputs": [],
   "source": []
  }
 ],
 "metadata": {
  "hide_input": false,
  "jupytext": {
   "formats": "ipynb,md"
  },
  "kernelspec": {
   "display_name": "Python 3",
   "language": "python",
   "name": "python3"
  },
  "language_info": {
   "codemirror_mode": {
    "name": "ipython",
    "version": 3
   },
   "file_extension": ".py",
   "mimetype": "text/x-python",
   "name": "python",
   "nbconvert_exporter": "python",
   "pygments_lexer": "ipython3",
   "version": "3.7.4"
  },
  "toc": {
   "base_numbering": 1,
   "nav_menu": {},
   "number_sections": true,
   "sideBar": true,
   "skip_h1_title": false,
   "title_cell": "Table of Contents",
   "title_sidebar": "Contents",
   "toc_cell": false,
   "toc_position": {},
   "toc_section_display": true,
   "toc_window_display": false
  }
 },
 "nbformat": 4,
 "nbformat_minor": 4
}
